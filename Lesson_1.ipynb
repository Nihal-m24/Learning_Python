{
 "cells": [
  {
   "cell_type": "markdown",
   "metadata": {},
   "source": [
    "# Learning Python\n",
    "### Lesson 1: Data Storage and Data Types"
   ]
  },
  {
   "cell_type": "markdown",
   "metadata": {},
   "source": [
    "**1.1 What is a variable?**\n",
    "\n",
    "Before jumping into using technical language, it would be best to explain what is a variable in terms and experiences that you see all around you every day. \n",
    "Let’s imagine you have two types of toys: cars and plushes. You also have two containers with the labels: car and plush. You are cleaning your room and as you go through all your toys either place them in the car container or the plush container. That is literally what a variable is. A variable is a 'container' that stores a certain type of data, which we will get into in a bit, and makes it easier to use throughout the rest of your code. \n",
    "\n",
    "Variables also make it easier for you to manipulate and manage your data efficiently. You can add two variables together, store the sum of two numbers inside a variable, and a whole lot more. \n",
    "\n",
    "Psss: You can even add two words together in coding. "
   ]
  },
  {
   "cell_type": "markdown",
   "metadata": {},
   "source": [
    "**1.2 What is a constant**\n",
    "\n",
    "A constant is exactly what a variable is but with a caveat. It also stores a certain type of data, however, you can not update the data later on in the code. You would typically use a constant when you want to repeatedly use certain data in your code but don't want it to be accidentally updated. "
   ]
  },
  {
   "cell_type": "markdown",
   "metadata": {},
   "source": [
    "**1.3 Naming Conventions**\n",
    "\n",
    "There are many different ways/standards of writing a variable in code. Each language that you use and learn has its convention when naming variables but you can typically use the way you are most comfortable with. In this section I will go over 2 conventions, one being the one used in Python and the other being my personal favorite.  \n",
    "\n",
    "* 1. Snake Case 🐍: Python typically uses the convention called snake case. In this convention, the variable name is all lower case and each word is separated by an underscore '_'. \n",
    "ex: \"average_salary_nurses\". \n",
    "* 2. Camel Case 🐫: Camel case is not typically used in Python. It is used in C-based languages such as C, C-Sharp, C#, C++, Swift, etc. I am including it here because it is what I use across all languages and feel most comfortable with it. To use this convention, you write the first word all in lowercase and each additional word will have its first letter capitalized. \n",
    "ex: averageSalaryDoctor\n",
    "\n",
    "Notice how the variable names in the examples above aren’t complete sentences. You only use small words and phrases to make the code easier to read. Remember we all code to avoid reading boring essays so save your fellow engineers time and a headache. Feel free to use any one of these conventions when writing your variables or if you use any other convention, let me know and use that. It’s all up to you. "
   ]
  },
  {
   "cell_type": "markdown",
   "metadata": {},
   "source": [
    "**1.4 Data Types**\n",
    "\n",
    "Going back to the toys example, just like how you have 2 types of toys, cars, and plushes, there are many different types of data. Let’s go over what they are and a few examples of them. \n",
    "\n",
    "1) **Characters (chr)**: Characters are the smallest type of data found in code. The best way to think of characters is as a letter of the alphabet. They are used in coding with single quotation marks (''). A space is also considered a character: \" \". A few examples of a character would be:"
   ]
  },
  {
   "cell_type": "code",
   "execution_count": 1,
   "metadata": {},
   "outputs": [],
   "source": [
    "char_1 : chr = 'h'\n",
    "char_2 : chr = 'e'\n",
    "char_3 : chr = 'l'\n",
    "char_4 : chr = 'o'\n",
    "char_5 : chr = '!'\n",
    "char_6 : chr = ' '"
   ]
  },
  {
   "cell_type": "markdown",
   "metadata": {},
   "source": [
    "2) **Strings (str)**: strings are a combination of several characters combined. Think of them as words in the English language where each word is compressed of several different alphabets. Strings are multiple words. They are enclosed with double quotation marks (\"\"). Strings can even be entire sentences, there is practically no limit. Strings can also include numbers. A few examples of strings would be: "
   ]
  },
  {
   "cell_type": "code",
   "execution_count": 2,
   "metadata": {},
   "outputs": [],
   "source": [
    "str_1 : str = \"hello\"\n",
    "str_2 : str = \"bye\"\n",
    "str_3 : str = \"My name is ...\"\n",
    "str_4 : str = \"Albert was born in Canada at 12:15 am. He was born 9 lb and 8 oz.\""
   ]
  },
  {
   "cell_type": "markdown",
   "metadata": {},
   "source": [
    "3) **Booleans (bool)**: Booleans are the easiest data types to work with. They can store 1 of 2 things: either TRUE or FALSE. That’s it.\n",
    "\n",
    "Let’s say you are an expert programmer and have built an amazing website, and you want to keep track of whether a user is signed in or not you would have a variable such as is_logged_in and assign it the value of TRUE if the user and logged in and FALSE of the user is. Also, remember that variables can be changed so when the user logs in you can update it to TRUE and change it back for when a user logs out. "
   ]
  },
  {
   "cell_type": "code",
   "execution_count": 3,
   "metadata": {},
   "outputs": [],
   "source": [
    "#User is not logged in \n",
    "is_logged_in : bool = False\n",
    "\n",
    "#User logs in \n",
    "is_logged_in = True\n",
    "\n",
    "#User logs out \n",
    "is_logged_in = False"
   ]
  },
  {
   "cell_type": "markdown",
   "metadata": {},
   "source": [
    "4)  **Integers (int)**: Integers are exactly what the name suggests, they are integers. They can store whole numbers from infinity to negative infinity.  For example, you can store numbers such as 1, 99, and 100 or you can even store the answer of a mathematical operation inside of these types of variables. Ex: sum = 7 + 7, diff = 99 - 100. "
   ]
  },
  {
   "cell_type": "code",
   "execution_count": 4,
   "metadata": {},
   "outputs": [],
   "source": [
    "nurses_avail = 99\n",
    "seconds_in_day = 24 * 60 * 60"
   ]
  },
  {
   "cell_type": "markdown",
   "metadata": {},
   "source": [
    "5) **Doubles/Float (double/float)**: Doubles are another data type that stores numbers. Unlike integers, which only store whole numbers, doubles can store decimal numbers. And just like integers, you can assign the answer to a mathematical operation to a double. In some languages, like in Python, doubles are called floats. In other languages, floats allow more decimal places than doubles. So for this series, I will use float and double interchangeably but be careful when working in other languages.  "
   ]
  },
  {
   "cell_type": "code",
   "execution_count": 5,
   "metadata": {},
   "outputs": [],
   "source": [
    "my_height_cm : float = 182.88\n",
    "gravitational_acceleration : float = 9.80665\n",
    "\n",
    "sale_price : float = 30 - (30.0 * 0.25)"
   ]
  },
  {
   "cell_type": "markdown",
   "metadata": {},
   "source": [
    "#### Practice #1"
   ]
  },
  {
   "cell_type": "markdown",
   "metadata": {},
   "source": [
    "It’s now time to put everything you have learned so far into practice. Below I have created a few variables that would possibly be used to store information about a person. I have initialized them with some information about my self. "
   ]
  },
  {
   "cell_type": "code",
   "execution_count": 6,
   "metadata": {},
   "outputs": [],
   "source": [
    "first_initial : chr = 'N'\n",
    "last_initial : chr = 'M'\n",
    "name : str = \"Nihal Memon\"\n",
    "age : int = 20\n",
    "has_dog : bool = False\n",
    "wants_cat : bool = True"
   ]
  },
  {
   "cell_type": "markdown",
   "metadata": {},
   "source": [
    "Now that you've seen how to write variables in a coding environment and how to initialize them, practice writing your own variables down below. Write a variable for: your first and last initial, your name, age, height (in inches or cm), if you have a license, and if you own a mansion or not. Make sure not to use the variable names I used above so you get better practice at writing your own variable names.\n",
    "\n",
    "_Hint: add 'my' in front of the variable names you want to use from my example above._"
   ]
  },
  {
   "cell_type": "code",
   "execution_count": 7,
   "metadata": {},
   "outputs": [],
   "source": [
    "#Your code goes here\n"
   ]
  },
  {
   "cell_type": "markdown",
   "metadata": {},
   "source": [
    "### 1.5 Print Function\n",
    "Now let’s go over something very simple and useful, the print function. The print function is every programmer's best friend. It outputs whatever you desire into the command line, or in this case, right below the cell. This helps you understand how your variables are being manipulated and what data they are storing at a given section of your code. They are not meant to be used as a debugging tool but many new programmers, including myself, treat them as such. Here the most basic way to call the print function is by writing print(). Inside the parenthesis would be the variable or message you are trying to print. A few different ways to use them and the different variations are:  "
   ]
  },
  {
   "cell_type": "code",
   "execution_count": 8,
   "metadata": {},
   "outputs": [
    {
     "name": "stdout",
     "output_type": "stream",
     "text": [
      "5.604417486713828e+24\n",
      "The variable complex_num stores the value: 5.604417486713828e+24\n"
     ]
    }
   ],
   "source": [
    "complex_num : float = 383784748494 * 3738373872929373 * (1/256)\n",
    "\n",
    "print(complex_num) # This outpus what the number is\n",
    "print(f\"The variable complex_num stores the value: {complex_num}\") #This allows you to print the value stored in the variable as well as a small message. "
   ]
  },
  {
   "cell_type": "markdown",
   "metadata": {},
   "source": [
    "### Practice #2 \n",
    "In the code space below, create a  variable called \"huge_number\" and initialize it with a large value that is seemingly random just like the number above. Next print out the variable as is. In the next line, past the code: \"huge_number = huge_number + (39283894848 * 1/7 + 938848)\". In the third line, print out the variable again along with the following message: \"The value [INSERT VALUE OF VARIABLE HERE] is stored in the variable huge_number\". Be sure to replace the [] with the variable. "
   ]
  },
  {
   "cell_type": "code",
   "execution_count": 9,
   "metadata": {},
   "outputs": [],
   "source": [
    "# Your code goes here"
   ]
  },
  {
   "cell_type": "markdown",
   "metadata": {},
   "source": [
    "Congrats 🥳 you completed your first Python Lesson! You should now have a basic understanding of the different ways to store data as well as a few types of data you will work with. In the next lesson, we will take all that we learned here and use it in actual code. Exciting right? We will also cover Arrays so be ready to work your 🍑 off in the next lesson. \n",
    "\n",
    "Feel free to give me any feedback you have on the lessons. \n",
    "\n",
    "See you soon! 👋🏻"
   ]
  },
  {
   "cell_type": "markdown",
   "metadata": {},
   "source": [
    "**Note: This entire notebook is covered under the Creative Commons Attribution-NonCommercial-ShareAlike 4.0 International License**"
   ]
  }
 ],
 "metadata": {
  "kernelspec": {
   "display_name": "Python 3",
   "language": "python",
   "name": "python3"
  },
  "language_info": {
   "codemirror_mode": {
    "name": "ipython",
    "version": 3
   },
   "file_extension": ".py",
   "mimetype": "text/x-python",
   "name": "python",
   "nbconvert_exporter": "python",
   "pygments_lexer": "ipython3",
   "version": "3.11.6"
  }
 },
 "nbformat": 4,
 "nbformat_minor": 2
}
